{
 "cells": [
  {
   "cell_type": "code",
   "execution_count": 3,
   "id": "126aa8ce-df16-425b-800a-cfe97b64d12b",
   "metadata": {},
   "outputs": [
    {
     "name": "stdout",
     "output_type": "stream",
     "text": [
      "Collecting imutils\n",
      "  Downloading imutils-0.5.4.tar.gz (17 kB)\n",
      "  Installing build dependencies: started\n",
      "  Installing build dependencies: finished with status 'done'\n",
      "  Getting requirements to build wheel: started\n",
      "  Getting requirements to build wheel: finished with status 'done'\n",
      "  Preparing metadata (pyproject.toml): started\n",
      "  Preparing metadata (pyproject.toml): finished with status 'done'\n",
      "Building wheels for collected packages: imutils\n",
      "  Building wheel for imutils (pyproject.toml): started\n",
      "  Building wheel for imutils (pyproject.toml): finished with status 'done'\n",
      "  Created wheel for imutils: filename=imutils-0.5.4-py3-none-any.whl size=25855 sha256=eeb1b4a4fba211e38dde8cd7a276966e28877a3c41b8fb194e27d535406f2e21\n",
      "  Stored in directory: c:\\users\\richa\\appdata\\local\\pip\\cache\\wheels\\31\\d0\\2c\\87ce38f6052879e5b7b18f0f8b4a10ad2a9d210e908d449f16\n",
      "Successfully built imutils\n",
      "Installing collected packages: imutils\n",
      "Successfully installed imutils-0.5.4\n"
     ]
    },
    {
     "name": "stderr",
     "output_type": "stream",
     "text": [
      "\n",
      "[notice] A new release of pip is available: 23.1.2 -> 23.2.1\n",
      "[notice] To update, run: python.exe -m pip install --upgrade pip\n"
     ]
    }
   ],
   "source": [
    "!pip install imutils"
   ]
  },
  {
   "cell_type": "code",
   "execution_count": 2,
   "id": "d2c78746-22cd-4d4f-a508-7d185b6d3f42",
   "metadata": {},
   "outputs": [],
   "source": [
    "import sys\n",
    "assert sys.version_info >=(3, 7)\n",
    "\n",
    "import numpy as np\n",
    "import cv2 as cv\n",
    "from util_func import *\n",
    "import imutils "
   ]
  },
  {
   "cell_type": "markdown",
   "id": "6f139221-d215-4359-be6b-d385fc2a4dc6",
   "metadata": {},
   "source": [
    "Q1 Rotate image by 45 degrees without cropping the sides of the image. (Hint: There are 2 strategies to tackle these problems). Use \"lena.jfif\" as the input image."
   ]
  },
  {
   "cell_type": "code",
   "execution_count": 5,
   "id": "aa4c8634-2bea-4a38-950e-021b29cd8df8",
   "metadata": {},
   "outputs": [
    {
     "data": {
      "text/plain": [
       "27"
      ]
     },
     "execution_count": 5,
     "metadata": {},
     "output_type": "execute_result"
    }
   ],
   "source": [
    "img = cv.imread(\"images/lena.jfif\")\n",
    "\n",
    "rotated = imutils.rotate_bound(img, 45)\n",
    "cv.imshow(\"Imutils Rotation\", rotated)\n",
    "cv.waitKey(0)"
   ]
  },
  {
   "cell_type": "code",
   "execution_count": 4,
   "id": "6c94a962-01db-44a2-8e7c-8f577bca392f",
   "metadata": {},
   "outputs": [],
   "source": [
    "img = cv.imread(\"images/lena.jfif\")\n",
    "\n",
    "# Determine the center of the image\n",
    "(h, w) = img.shape[:2]\n",
    "center = (w // 2, h // 2)\n",
    "yc, xc = h // 2, w // 2\n",
    "\n",
    "angle = 45\n",
    "\n",
    "M = cv.getRotationMatrix2D(center, angle, 1.0)\n",
    "dst = cv.warpAffine(img, M, (w+yc, h+xc))\n",
    "\n",
    "show_img(\"rotation\", dst)"
   ]
  },
  {
   "cell_type": "markdown",
   "id": "37e0cb0c-50af-4efe-957f-a11e55be27a7",
   "metadata": {},
   "source": [
    "Q2"
   ]
  },
  {
   "cell_type": "code",
   "execution_count": null,
   "id": "ebfc7994-5fa0-499b-9a97-80746f517d54",
   "metadata": {},
   "outputs": [],
   "source": [
    "img = cv.imread(\"images/native-bee.png\")\n",
    "img2 = cv.imread(\"images/flower.jfif\")\n",
    "\n",
    "rows, cols, channels = img2.shape\n",
    "roi = img[0:rows, 0:cols]\n",
    "\n",
    "img2gray = cv.cvtColor(img2,cv.COLOR_BGR2GRAY)\n",
    "#70 = intensity value of the pixel, to remove black bg, 255, maximum intensity value\n",
    "ret, mask = cv.threshold(img2gray, 70, 255, cv.THRESH_BINARY) \n",
    "mask_inv = cv.bitwise_not(mask)\n",
    "\n",
    "img_bg = cv.bitwise_and(roi,roi,mask = mask_inv)\n",
    "img2_fg = cv.bitwise_and(img2,img2,mask = mask)\n",
    "\n",
    "dst = cv.add(img_bg,img2_fg)\n",
    "img[0:rows, 0:cols] = dst\n",
    "\n",
    "show_img(\"result\", img)\n",
    "cv.waitKey(0)\n",
    "cv.destroyAllWindows()"
   ]
  },
  {
   "cell_type": "markdown",
   "id": "0aa95d1e-f113-461d-8bcf-2f95d5838919",
   "metadata": {},
   "source": [
    "Q3 Apply custom sharpening kernel of aperture size 3 and 5 as shown below on 'native-bee.png':"
   ]
  },
  {
   "cell_type": "code",
   "execution_count": null,
   "id": "0302d669-c65f-48f3-b6e7-7a1249f16a33",
   "metadata": {},
   "outputs": [],
   "source": [
    "img = cv.imread(\"images/native-bee.png\")\n",
    "\n",
    "kernel = np.array([[0, -1, 0], [-1, 5, -1], [0, -1, 0]])\n",
    "kernel2 = np.array([[-1, -1, -1, -1, -1],\n",
    "                   [-1, -1, -1, -1, -1],\n",
    "                   [-1, -1, 25, -1, -1],\n",
    "                   [-1, -1, -1, -1, -1],\n",
    "                   [-1, -1, -1, -1, -1]])\n",
    "\n",
    "dst = cv.filter2D(img, -1, kernel)\n",
    "dst2 = cv.filter2D(img, -1, kernel2)\n",
    "\n",
    "plt.subplot(131), plt_img(dst, \"3x3\") \n",
    "#sharpend wihtin the range of formula  (sharpened = original + (original − blurred) × amount), pic look obvious and clean\n",
    "plt.subplot(132), plt_img(dst2, \"5x5\") \n",
    "#Way too much sharpend, consists of noise in the picture\n",
    "plt.subplot(133), plt_img(img, \"normal\")"
   ]
  },
  {
   "cell_type": "markdown",
   "id": "0b39c53b-8402-420c-acad-3f78911e9c06",
   "metadata": {},
   "source": [
    "Q4 Apply different image smoothing techniques (e.g. average filter, Gaussian kernel and median filter) on 'noise_lena.jpg' and display the resulting images after the convolution. Comment on the outcomes and deduce the type of noise present on the image"
   ]
  },
  {
   "cell_type": "code",
   "execution_count": null,
   "id": "1010e5d7-5b46-4d1d-b7c3-d5dc840b6e22",
   "metadata": {},
   "outputs": [],
   "source": [
    "image_path = \"images/noise_lena.jpg\"\n",
    "image = cv.imread(image_path)\n",
    "\n",
    "# Apply average filter (blur)\n",
    "average_filtered = cv.blur(image, (5, 5))\n",
    "\n",
    "# Apply Gaussian filter\n",
    "gaussian_filtered = cv.GaussianBlur(image, (5, 5), 0)\n",
    "\n",
    "# Apply median filter\n",
    "median_filtered = cv.medianBlur(image, 5)\n",
    "\n",
    "# Display the original and filtered images\n",
    "cv.imshow(\"Original Image\", image)\n",
    "cv.imshow(\"Average Filtered\", average_filtered)\n",
    "cv.imshow(\"Gaussian Filtered\", gaussian_filtered)\n",
    "cv.imshow(\"Median Filtered\", median_filtered)\n",
    "cv.waitKey(0)\n",
    "cv.destroyAllWindows()\n",
    "\n",
    "# Average filter is blurry but smooth\n",
    "# Gaussian filter has fewer noises but the overall shape of the object is clear\n",
    "# Reduces the noises significantly"
   ]
  }
 ],
 "metadata": {
  "kernelspec": {
   "display_name": "Python 3 (ipykernel)",
   "language": "python",
   "name": "python3"
  },
  "language_info": {
   "codemirror_mode": {
    "name": "ipython",
    "version": 3
   },
   "file_extension": ".py",
   "mimetype": "text/x-python",
   "name": "python",
   "nbconvert_exporter": "python",
   "pygments_lexer": "ipython3",
   "version": "3.11.4"
  }
 },
 "nbformat": 4,
 "nbformat_minor": 5
}
