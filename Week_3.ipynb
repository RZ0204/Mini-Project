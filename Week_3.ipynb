{
 "cells": [
  {
   "cell_type": "markdown",
   "id": "ab2794aa",
   "metadata": {},
   "source": [
    "# Learning outcomes\n",
    "1. Load, display and save images.\n",
    "2. Load, show and save videos.\n",
    "3. Resize images\n",
    "\n",
    "## Why OpenCV?\n",
    "- Compatible with multiple major OS, such as Windows, Linux, MacOS\n",
    "- Can be written in different languages : C++, Python, Java\n",
    "- Interoperable with Numpy modules, thereby faster computation of image array\n",
    "- Large community support, a lot of resources online (articles, stackoverflow posts)\n",
    "\n",
    "## Image formats\n",
    "- JPEG (.jpg .jpeg .jfif) Photos taken from camera\n",
    "- PNG (.png) Website, larger file size compared to JPEG\n",
    "- tiff (.tif) high quality printing, very large file size\n",
    "- bmp (.bmp) multiple uses, large file size\n",
    "- GIF (.gif) animations, swallow color depth\n",
    "- webp (.webp) smaller file size compared to JPEG and PNG, IE11 not supported"
   ]
  },
  {
   "cell_type": "markdown",
   "id": "42320d75",
   "metadata": {},
   "source": [
    "# Setup"
   ]
  },
  {
   "cell_type": "code",
   "execution_count": 1,
   "id": "1521335b",
   "metadata": {},
   "outputs": [
    {
     "name": "stdout",
     "output_type": "stream",
     "text": [
      "Requirement already satisfied: opencv-python in c:\\users\\richa\\appdata\\local\\programs\\python\\python311\\lib\\site-packages (4.8.0.74)"
     ]
    },
    {
     "name": "stderr",
     "output_type": "stream",
     "text": [
      "\n",
      "[notice] A new release of pip is available: 23.1.2 -> 23.2.1\n",
      "[notice] To update, run: python.exe -m pip install --upgrade pip\n"
     ]
    },
    {
     "name": "stdout",
     "output_type": "stream",
     "text": [
      "\n",
      "Requirement already satisfied: numpy>=1.21.2 in c:\\users\\richa\\appdata\\local\\programs\\python\\python311\\lib\\site-packages (from opencv-python) (1.25.1)\n"
     ]
    }
   ],
   "source": [
    "import os\n",
    "!pip install opencv-python"
   ]
  },
  {
   "cell_type": "code",
   "execution_count": 2,
   "id": "92ca5236",
   "metadata": {},
   "outputs": [
    {
     "name": "stdout",
     "output_type": "stream",
     "text": [
      "4.8.0\n"
     ]
    }
   ],
   "source": [
    "import sys\n",
    "# At least Python 3.7\n",
    "assert sys.version_info >= (3, 7)\n",
    "\n",
    "import numpy as np\n",
    "import cv2 as cv\n",
    "from util_func import *\n",
    "\n",
    "# Check OpenCV version\n",
    "print(cv.__version__)"
   ]
  },
  {
   "cell_type": "markdown",
   "id": "91330386",
   "metadata": {},
   "source": [
    "# Load and show images"
   ]
  },
  {
   "cell_type": "code",
   "execution_count": 3,
   "id": "a302bcfe",
   "metadata": {},
   "outputs": [],
   "source": [
    "img = cv.imread('lena.jfif')\n",
    "img_grayscale = cv.imread('lena.jfif', 0)\n",
    "\n",
    "cv.imshow(\"original\", img)\n",
    "cv.imshow('grayscale', img_grayscale)\n",
    "cv.waitKey(0) # wait for user response\n",
    "cv.destroyAllWindows()"
   ]
  },
  {
   "cell_type": "code",
   "execution_count": 4,
   "id": "a2597344",
   "metadata": {},
   "outputs": [],
   "source": [
    "def show_img(window_name, img):\n",
    "    cv.imshow(window_name, img)\n",
    "    cv.waitKey(0)\n",
    "    cv.destroyAllWindows()"
   ]
  },
  {
   "cell_type": "code",
   "execution_count": 5,
   "id": "257de03b",
   "metadata": {
    "scrolled": true
   },
   "outputs": [],
   "source": [
    "# png\n",
    "img = cv.imread(\"lena.png\", -1)\n",
    "\n",
    "show_img(\"lena\", img)"
   ]
  },
  {
   "cell_type": "markdown",
   "id": "53436994",
   "metadata": {},
   "source": [
    "# GIF\n",
    "import new module"
   ]
  },
  {
   "cell_type": "code",
   "execution_count": 6,
   "id": "38a3ff3b",
   "metadata": {},
   "outputs": [
    {
     "ename": "ModuleNotFoundError",
     "evalue": "No module named 'imageio'",
     "output_type": "error",
     "traceback": [
      "\u001b[1;31m---------------------------------------------------------------------------\u001b[0m",
      "\u001b[1;31mModuleNotFoundError\u001b[0m                       Traceback (most recent call last)",
      "Cell \u001b[1;32mIn[6], line 1\u001b[0m\n\u001b[1;32m----> 1\u001b[0m \u001b[38;5;28;01mimport\u001b[39;00m \u001b[38;5;21;01mimageio\u001b[39;00m\n",
      "\u001b[1;31mModuleNotFoundError\u001b[0m: No module named 'imageio'"
     ]
    }
   ],
   "source": [
    "import imageio"
   ]
  },
  {
   "cell_type": "code",
   "execution_count": null,
   "id": "e06492a2",
   "metadata": {},
   "outputs": [],
   "source": [
    "!pip install imageio"
   ]
  },
  {
   "cell_type": "code",
   "execution_count": null,
   "id": "0cee2df1",
   "metadata": {},
   "outputs": [],
   "source": [
    "# gif\n",
    "GIF = imageio.mimread(\"rotating_earth_large.gif\")\n",
    "# change to BGR from RGB\n",
    "imgs = [cv.cvtColor(img, cv.COLOR_RGB2BGR) for img in GIF]\n",
    "\n",
    "for img in imgs:\n",
    "    cv.imshow('GIF image', img)\n",
    "    cv.waitKey(200)\n",
    "    \n",
    "cv.destroyAllWindows()"
   ]
  },
  {
   "cell_type": "markdown",
   "id": "92673cff",
   "metadata": {},
   "source": [
    "# Save images\n",
    "cv.imwrite(filepath, img)"
   ]
  },
  {
   "cell_type": "code",
   "execution_count": null,
   "id": "d6f750e8",
   "metadata": {},
   "outputs": [],
   "source": [
    "# a more formalized approach\n",
    "img = cv.imread(cv.samples.findFile(\"lena.jfif\"))\n",
    "\n",
    "if img is None:\n",
    "    sys.exit(\"Not a valid filepath\")\n",
    "    \n",
    "cv.imshow(\"img\", img)\n",
    "k = cv.waitKey(0) & 0xFF\n",
    "if k == 115: #press 's' button\n",
    "    cv.imwrite(\"lena_save.jpg\", img)\n",
    "    \n",
    "cv.destroyAllWindows()"
   ]
  },
  {
   "cell_type": "markdown",
   "id": "e816bfe8",
   "metadata": {},
   "source": [
    "## Same operations on videos\n",
    "Load and show videos"
   ]
  },
  {
   "cell_type": "code",
   "execution_count": null,
   "id": "57d7ef91",
   "metadata": {},
   "outputs": [],
   "source": [
    "cap = cv.VideoCapture(\"img_pexels.mp4\")\n",
    "\n",
    "if not cap.isOpened():\n",
    "    sys.exit(\"No video file found\")\n",
    "\n",
    "cv.namedWindow(\"frame\", cv.WINDOW_NORMAL)\n",
    "while True:\n",
    "    ret, frame = cap.read()\n",
    "    \n",
    "    if not ret:\n",
    "        print(\"No frame received!\")\n",
    "        break\n",
    "        \n",
    "    cv.imshow(\"frame\", frame)\n",
    "    k = cv.waitKey(1) & 0xFF\n",
    "    if k == 27:\n",
    "        break\n",
    "        \n",
    "cap.release()\n",
    "cv.destroyAllWindows()"
   ]
  },
  {
   "cell_type": "code",
   "execution_count": null,
   "id": "7eb410c2",
   "metadata": {},
   "outputs": [],
   "source": [
    "## Webcam\n",
    "cap = cv.VideoCapture(0) #Webcam\n",
    "\n",
    "if not cap.isOpened():\n",
    "    sys.exit(\"No webcam found\")\n",
    "    \n",
    "# save video object\n",
    "# arguments: filepath, fourcc, fps, width and height\n",
    "fourcc = cv.VideoWriter_fourcc(\"M\", \"J\", \"P\", \"G\")\n",
    "fps = 15\n",
    "w, h = int(cap.get(3)), int(cap.get(4))\n",
    "out = cv.VideoWriter(\"out.avi\", fourcc, fps, (w,h))\n",
    "while True :\n",
    "    ret, frame = cap.read()\n",
    "    \n",
    "    if not ret:\n",
    "        print(\"No frame received!\")\n",
    "        break\n",
    "        \n",
    "    out.write(frame)\n",
    "    cv.imshow(\"frame\", frame)\n",
    "    k = cv.waitKey(1) & 0xFF\n",
    "    if k == 27:\n",
    "        break\n",
    "        \n",
    "        \n",
    "cap.release()\n",
    "out.release()\n",
    "cv.destroyAllWindows()"
   ]
  },
  {
   "cell_type": "code",
   "execution_count": null,
   "id": "3cecbc25",
   "metadata": {},
   "outputs": [],
   "source": [
    "import time"
   ]
  },
  {
   "cell_type": "code",
   "execution_count": null,
   "id": "6e31ec4a",
   "metadata": {},
   "outputs": [],
   "source": [
    "cap = cv.VideoCapture(\"img_pexels.mp4\")\n",
    "\n",
    "if not cap.isOpened():\n",
    "    sys.exit(\"No video file found\")\n",
    "    \n",
    "cv.namedWindow(\"frame\", cv.WINDOW_NORMAL)\n",
    "start = time.time()\n",
    "while True:\n",
    "    ret, frame = cap.read()\n",
    "    \n",
    "    if not ret:\n",
    "        print(\"No frame received!\")\n",
    "        break\n",
    "        \n",
    "    cv.imshow(\"frame\", frame)\n",
    "    k = cv.waitKey(1) & 0xFF\n",
    "    if k == 27:\n",
    "        break\n",
    "    \n",
    "end = time.time()\n",
    "cap.release()\n",
    "cv.destroyAllWindows()"
   ]
  },
  {
   "cell_type": "code",
   "execution_count": null,
   "id": "dd4e24ec",
   "metadata": {
    "scrolled": true
   },
   "outputs": [],
   "source": [
    "print(f\"The actual frame rate from the file: {cap.get(5)}\")\n",
    "n_frames = cap.get(7)\n",
    "print(f\"The fps if stream using OpenCV: {n_frames / (end - start)}\")"
   ]
  },
  {
   "cell_type": "markdown",
   "id": "7b204dfd",
   "metadata": {},
   "source": [
    "## Image resizing\n",
    "1. set arbitrary dimension (w, h)\n",
    "2. scale factor"
   ]
  },
  {
   "cell_type": "code",
   "execution_count": null,
   "id": "9e055f38",
   "metadata": {},
   "outputs": [],
   "source": [
    "# 1st method\n",
    "img = cv.imread(\"soccer.jpg\")\n",
    "\n",
    "new_height = 450\n",
    "new_width = 300\n",
    "\n",
    "# third argument: fx, 4th: fy, 5th: interpolation methods (default: bilinear)\n",
    "img_resize = cv.resize(img, (new_width, new_height))\n",
    "\n",
    "show_img(\"resize\", img_resize)"
   ]
  },
  {
   "cell_type": "code",
   "execution_count": null,
   "id": "daba1d3a",
   "metadata": {},
   "outputs": [],
   "source": [
    "img.shape"
   ]
  },
  {
   "cell_type": "code",
   "execution_count": null,
   "id": "3b308fe4",
   "metadata": {},
   "outputs": [],
   "source": [
    "# 2nd method scale factor\n",
    "img = cv.imread(\"soccer.jpg\")\n",
    "\n",
    "img_resize = cv.resize(img, None, fx = 1.5, fy = 1.5)\n",
    "cv.imshow(\"original\", img)\n",
    "show_img(\"resize\", img_resize)\n"
   ]
  },
  {
   "cell_type": "markdown",
   "id": "531488c7",
   "metadata": {},
   "source": [
    "## Exercise 2"
   ]
  },
  {
   "cell_type": "code",
   "execution_count": null,
   "id": "b5c95bf1",
   "metadata": {},
   "outputs": [],
   "source": [
    "#1\n",
    "#Load and display\n",
    "img = cv.imread('dog.jfif')\n",
    "img_grayscale = cv.imread('dog.jfif', 0)\n",
    "\n",
    "cv.imshow(\"original\", img)\n",
    "cv.imshow('grayscale', img_grayscale)\n",
    "cv.waitKey(0)\n",
    "cv.destroyAllWindows()\n",
    "\n",
    "#Save the image\n",
    "img = cv.imread(cv.samples.findFile(\"dog.jfif\"))\n",
    "\n",
    "if img is None:\n",
    "    sys.exit(\"Not a valid filepath\")\n",
    "    \n",
    "cv.imshow(\"img\", img)\n",
    "k = cv.waitKey(0) & 0xFF\n",
    "if k == 115: #press 's' button\n",
    "    cv.imwrite(\"dog_save.png\", img)\n",
    "    \n",
    "cv.destroyAllWindows()"
   ]
  },
  {
   "cell_type": "code",
   "execution_count": null,
   "id": "52aee25f",
   "metadata": {},
   "outputs": [],
   "source": [
    "#2\n",
    "# 1st method : cv.imshow() called twice\n",
    "img = cv.imread(\"lena.jfif\")\n",
    "grayscale = cv.cvtColor(img, cv.COLOR_BGR2GRAY)\n",
    "\n",
    "cv.imshow(\"lena\", img)\n",
    "show_img(\"grayscale\", grayscale)\n"
   ]
  },
  {
   "cell_type": "code",
   "execution_count": null,
   "id": "9746d1d4",
   "metadata": {},
   "outputs": [],
   "source": [
    "# 2nd way import external module : matplotlib\n",
    "import matplotlib.pyplot as plt"
   ]
  },
  {
   "cell_type": "code",
   "execution_count": null,
   "id": "7bb4e8c5",
   "metadata": {},
   "outputs": [],
   "source": [
    "img_rgb = cv.cvtColor(img, cv.COLOR_BGR2RGB)\n",
    "\n",
    "# 121 = 1:column 2:row 1:pic num\n",
    "plt.subplot(121)\n",
    "plt.imshow(img_rgb)\n",
    "plt.xticks([]),plt.yticks([])\n",
    "plt.subplot(122)\n",
    "plt.imshow(grayscale, cmap=plt.cm.gray)\n",
    "plt.xticks([]),plt.yticks([])\n",
    "plt.suptitle(\"color vs grayscale\")\n",
    "plt.show()"
   ]
  },
  {
   "cell_type": "code",
   "execution_count": null,
   "id": "5058a507",
   "metadata": {},
   "outputs": [],
   "source": [
    "# 3rd method: concatenate (join array)\n",
    "gray = cv.cvtColor(grayscale, cv.COLOR_GRAY2BGR)\n",
    "\n",
    "img_combined = np.hstack((img, gray))\n",
    "#Or \n",
    "img_combined = np.concatenate((img, gray), axis =1)\n",
    "show_img(\"joined\", img_combined)"
   ]
  },
  {
   "cell_type": "markdown",
   "id": "119917d2-b9d7-44c3-8cef-3696ecb461b3",
   "metadata": {},
   "source": [
    "Q3"
   ]
  },
  {
   "cell_type": "code",
   "execution_count": null,
   "id": "1b135813-5720-47db-9773-11feea0fe28b",
   "metadata": {},
   "outputs": [],
   "source": [
    "cap = cv.VideoCapture(\"videos/img_pexels.mp4\")\n",
    "\n",
    "if not cap.isOpened():\n",
    "    sys.exit(\"No video file found\")\n",
    "\n",
    "\n",
    "new_height = 600\n",
    "new_width = 400\n",
    "fps = 30\n",
    "fourcc = cv.VideoWriter_fourcc(\"M\", \"J\", \"P\", \"G\")\n",
    "out = cv.VideoWriter('smaller_img_pexels.avi',fourcc,fps, (new_width, new_height))\n",
    "\n",
    "while cap.isOpened():\n",
    "    ret, frame = cap.read()\n",
    "    \n",
    "    if not ret:\n",
    "        print(\"No frame received!\")\n",
    "        break\n",
    "        \n",
    "    resize_frame = cv.resize(frame, (new_width,new_height)) \n",
    "    \n",
    "    cv.imshow(\"resized video\", resize_frame)\n",
    "    if cv.waitKey(1) & 0xFF == 27:\n",
    "        break\n",
    "        \n",
    "    out.write(resize_frame)\n",
    "    \n",
    "cap.release()\n",
    "out.release()\n",
    "cv.destroyAllWindows()"
   ]
  },
  {
   "cell_type": "markdown",
   "id": "f8a0bc2b-1700-40d3-be0b-9b0da104d84e",
   "metadata": {},
   "source": [
    "Q4"
   ]
  },
  {
   "cell_type": "code",
   "execution_count": null,
   "id": "3b43f1b4-1446-4dd3-89a1-109d47bfdc19",
   "metadata": {},
   "outputs": [],
   "source": [
    "#1) Linear interpolation\n",
    "\n",
    "img = cv.imread(\"images/dog.jfif\")\n",
    "cv.imshow(\"Dog\", img)\n",
    "resized = cv.resize(img, None, fx=3, fy=3, interpolation = cv.INTER_LINEAR)\n",
    "show_img(\"Linear Interpolation\", resized)\n",
    "\n",
    "cv.waitKey(0)\n",
    "cv.destroyAllWindows()\n",
    "\n",
    "# Output is blurry, but still able to describe the object"
   ]
  },
  {
   "cell_type": "code",
   "execution_count": null,
   "id": "c9ba9013-e1d6-46b3-9ddf-acd5164e36cc",
   "metadata": {},
   "outputs": [],
   "source": [
    "#2) Cubic interpolation\n",
    "\n",
    "img = cv.imread(\"images/dog.jfif\")\n",
    "cv.imshow(\"Dog\", img)\n",
    "resized = cv.resize(img, None, fx=3, fy=3, interpolation = cv.INTER_CUBIC)\n",
    "show_img(\"Cubic Interpolation\", resized)\n",
    "\n",
    "cv.waitKey(0)\n",
    "cv.destroyAllWindows()\n",
    "\n",
    "# Output is blurry, but slightly smoother than Linear Interpolation"
   ]
  },
  {
   "cell_type": "code",
   "execution_count": null,
   "id": "654ca15e-3811-481a-8faa-e844e307d498",
   "metadata": {},
   "outputs": [],
   "source": [
    "#3) nearest neighbor interpolation\n",
    "\n",
    "img = cv.imread(\"images/dog.jfif\")\n",
    "cv.imshow(\"Dog\", img)\n",
    "resized = cv.resize(img, None, fx=3, fy=3, interpolation = cv.INTER_NEAREST)\n",
    "show_img(\"nearest neighbor interpolation\", resized)\n",
    "\n",
    "cv.waitKey(0)\n",
    "cv.destroyAllWindows()\n",
    "\n",
    "# The output is more pixelated than the previous 2 methods"
   ]
  },
  {
   "cell_type": "code",
   "execution_count": null,
   "id": "0846e338-ed62-458e-a3ea-61517b7258c7",
   "metadata": {},
   "outputs": [],
   "source": []
  }
 ],
 "metadata": {
  "kernelspec": {
   "display_name": "Python 3 (ipykernel)",
   "language": "python",
   "name": "python3"
  },
  "language_info": {
   "codemirror_mode": {
    "name": "ipython",
    "version": 3
   },
   "file_extension": ".py",
   "mimetype": "text/x-python",
   "name": "python",
   "nbconvert_exporter": "python",
   "pygments_lexer": "ipython3",
   "version": "3.11.4"
  }
 },
 "nbformat": 4,
 "nbformat_minor": 5
}
